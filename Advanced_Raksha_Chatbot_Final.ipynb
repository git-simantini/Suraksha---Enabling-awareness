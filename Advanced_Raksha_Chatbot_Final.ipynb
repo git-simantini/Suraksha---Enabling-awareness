{
  "nbformat": 4,
  "nbformat_minor": 0,
  "metadata": {
    "colab": {
      "provenance": [],
      "toc_visible": true
    },
    "kernelspec": {
      "name": "python3",
      "display_name": "Python 3"
    },
    "language_info": {
      "name": "python"
    }
  },
  "cells": [
    {
      "cell_type": "markdown",
      "source": [
        "# Advanced Raksha Chatbot - Additional Feature for the Suraksha App\n",
        "\n",
        "## Group 10 \n",
        "\n",
        "As a way forward, we have also explored the possibility of a slightly more advanced level chatbot, which can give customized responses to the four personas. \n",
        "\n",
        "For now, we’ve worked on the prototype on Python. This can be later hosted to Heroku web server via Flask and the get the output to our flutter App. "
      ],
      "metadata": {
        "id": "3zMY7kSvkfab"
      }
    },
    {
      "cell_type": "code",
      "source": [
        "#Install the packages every time you use Colab. If you open this in Jupyter Notebook, then this isn't required\n",
        "!pip install chatterbot\n",
        "!pip install chatterbot_corpus\n"
      ],
      "metadata": {
        "colab": {
          "base_uri": "https://localhost:8080/",
          "height": 1000
        },
        "id": "bQhwUydn7Yn1",
        "outputId": "45eb3d68-3107-4258-aa37-4ca33a6f342b"
      },
      "execution_count": null,
      "outputs": [
        {
          "output_type": "stream",
          "name": "stdout",
          "text": [
            "Looking in indexes: https://pypi.org/simple, https://us-python.pkg.dev/colab-wheels/public/simple/\n",
            "Requirement already satisfied: chatterbot in /usr/local/lib/python3.8/dist-packages (1.0.5)\n",
            "Requirement already satisfied: spacy<2.2,>=2.1 in /usr/local/lib/python3.8/dist-packages (from chatterbot) (2.1.9)\n",
            "Requirement already satisfied: mathparse<0.2,>=0.1 in /usr/local/lib/python3.8/dist-packages (from chatterbot) (0.1.2)\n",
            "Requirement already satisfied: pytz in /usr/local/lib/python3.8/dist-packages (from chatterbot) (2022.6)\n",
            "Collecting pyyaml<5.2,>=5.1\n",
            "  Using cached PyYAML-5.1.2-cp38-cp38-linux_x86_64.whl\n",
            "Requirement already satisfied: python-dateutil<2.8,>=2.7 in /usr/local/lib/python3.8/dist-packages (from chatterbot) (2.7.5)\n",
            "Requirement already satisfied: nltk<4.0,>=3.2 in /usr/local/lib/python3.8/dist-packages (from chatterbot) (3.7)\n",
            "Requirement already satisfied: pymongo<4.0,>=3.3 in /usr/local/lib/python3.8/dist-packages (from chatterbot) (3.13.0)\n",
            "Requirement already satisfied: pint>=0.8.1 in /usr/local/lib/python3.8/dist-packages (from chatterbot) (0.20.1)\n",
            "Requirement already satisfied: sqlalchemy<1.3,>=1.2 in /usr/local/lib/python3.8/dist-packages (from chatterbot) (1.2.19)\n",
            "Requirement already satisfied: click in /usr/local/lib/python3.8/dist-packages (from nltk<4.0,>=3.2->chatterbot) (7.1.2)\n",
            "Requirement already satisfied: regex>=2021.8.3 in /usr/local/lib/python3.8/dist-packages (from nltk<4.0,>=3.2->chatterbot) (2022.6.2)\n",
            "Requirement already satisfied: joblib in /usr/local/lib/python3.8/dist-packages (from nltk<4.0,>=3.2->chatterbot) (1.2.0)\n",
            "Requirement already satisfied: tqdm in /usr/local/lib/python3.8/dist-packages (from nltk<4.0,>=3.2->chatterbot) (4.64.1)\n",
            "Requirement already satisfied: six>=1.5 in /usr/local/lib/python3.8/dist-packages (from python-dateutil<2.8,>=2.7->chatterbot) (1.15.0)\n",
            "Requirement already satisfied: numpy>=1.15.0 in /usr/local/lib/python3.8/dist-packages (from spacy<2.2,>=2.1->chatterbot) (1.21.6)\n",
            "Requirement already satisfied: blis<0.3.0,>=0.2.2 in /usr/local/lib/python3.8/dist-packages (from spacy<2.2,>=2.1->chatterbot) (0.2.4)\n",
            "Requirement already satisfied: plac<1.0.0,>=0.9.6 in /usr/local/lib/python3.8/dist-packages (from spacy<2.2,>=2.1->chatterbot) (0.9.6)\n",
            "Requirement already satisfied: cymem<2.1.0,>=2.0.2 in /usr/local/lib/python3.8/dist-packages (from spacy<2.2,>=2.1->chatterbot) (2.0.7)\n",
            "Requirement already satisfied: murmurhash<1.1.0,>=0.28.0 in /usr/local/lib/python3.8/dist-packages (from spacy<2.2,>=2.1->chatterbot) (1.0.9)\n",
            "Requirement already satisfied: srsly<1.1.0,>=0.0.6 in /usr/local/lib/python3.8/dist-packages (from spacy<2.2,>=2.1->chatterbot) (1.0.6)\n",
            "Requirement already satisfied: requests<3.0.0,>=2.13.0 in /usr/local/lib/python3.8/dist-packages (from spacy<2.2,>=2.1->chatterbot) (2.23.0)\n",
            "Requirement already satisfied: wasabi<1.1.0,>=0.2.0 in /usr/local/lib/python3.8/dist-packages (from spacy<2.2,>=2.1->chatterbot) (0.10.1)\n",
            "Requirement already satisfied: thinc<7.1.0,>=7.0.8 in /usr/local/lib/python3.8/dist-packages (from spacy<2.2,>=2.1->chatterbot) (7.0.8)\n",
            "Requirement already satisfied: preshed<2.1.0,>=2.0.1 in /usr/local/lib/python3.8/dist-packages (from spacy<2.2,>=2.1->chatterbot) (2.0.1)\n",
            "Requirement already satisfied: chardet<4,>=3.0.2 in /usr/local/lib/python3.8/dist-packages (from requests<3.0.0,>=2.13.0->spacy<2.2,>=2.1->chatterbot) (3.0.4)\n",
            "Requirement already satisfied: idna<3,>=2.5 in /usr/local/lib/python3.8/dist-packages (from requests<3.0.0,>=2.13.0->spacy<2.2,>=2.1->chatterbot) (2.10)\n",
            "Requirement already satisfied: certifi>=2017.4.17 in /usr/local/lib/python3.8/dist-packages (from requests<3.0.0,>=2.13.0->spacy<2.2,>=2.1->chatterbot) (2022.9.24)\n",
            "Requirement already satisfied: urllib3!=1.25.0,!=1.25.1,<1.26,>=1.21.1 in /usr/local/lib/python3.8/dist-packages (from requests<3.0.0,>=2.13.0->spacy<2.2,>=2.1->chatterbot) (1.24.3)\n",
            "Installing collected packages: pyyaml\n",
            "  Attempting uninstall: pyyaml\n",
            "    Found existing installation: PyYAML 3.13\n",
            "    Uninstalling PyYAML-3.13:\n",
            "      Successfully uninstalled PyYAML-3.13\n",
            "\u001b[31mERROR: pip's dependency resolver does not currently take into account all the packages that are installed. This behaviour is the source of the following dependency conflicts.\n",
            "dask 2022.2.1 requires pyyaml>=5.3.1, but you have pyyaml 5.1.2 which is incompatible.\n",
            "chatterbot-corpus 1.2.0 requires PyYAML<4.0,>=3.12, but you have pyyaml 5.1.2 which is incompatible.\u001b[0m\n",
            "Successfully installed pyyaml-5.1.2\n"
          ]
        },
        {
          "output_type": "display_data",
          "data": {
            "application/vnd.colab-display-data+json": {
              "pip_warning": {
                "packages": [
                  "yaml"
                ]
              }
            }
          },
          "metadata": {}
        },
        {
          "output_type": "stream",
          "name": "stdout",
          "text": [
            "Looking in indexes: https://pypi.org/simple, https://us-python.pkg.dev/colab-wheels/public/simple/\n",
            "Requirement already satisfied: chatterbot_corpus in /usr/local/lib/python3.8/dist-packages (1.2.0)\n",
            "Collecting PyYAML<4.0,>=3.12\n",
            "  Using cached PyYAML-3.13-cp38-cp38-linux_x86_64.whl\n",
            "Installing collected packages: PyYAML\n",
            "  Attempting uninstall: PyYAML\n",
            "    Found existing installation: PyYAML 5.1.2\n",
            "    Uninstalling PyYAML-5.1.2:\n",
            "      Successfully uninstalled PyYAML-5.1.2\n",
            "\u001b[31mERROR: pip's dependency resolver does not currently take into account all the packages that are installed. This behaviour is the source of the following dependency conflicts.\n",
            "dask 2022.2.1 requires pyyaml>=5.3.1, but you have pyyaml 3.13 which is incompatible.\n",
            "chatterbot 1.0.5 requires pyyaml<5.2,>=5.1, but you have pyyaml 3.13 which is incompatible.\u001b[0m\n",
            "Successfully installed PyYAML-3.13\n"
          ]
        },
        {
          "output_type": "display_data",
          "data": {
            "application/vnd.colab-display-data+json": {
              "pip_warning": {
                "packages": [
                  "yaml"
                ]
              }
            }
          },
          "metadata": {}
        }
      ]
    },
    {
      "cell_type": "code",
      "execution_count": null,
      "metadata": {
        "colab": {
          "base_uri": "https://localhost:8080/"
        },
        "id": "MIIQRKNC66gV",
        "outputId": "4e0d0f69-f682-4a0f-87ff-644d0e8e6c0f"
      },
      "outputs": [
        {
          "output_type": "stream",
          "name": "stderr",
          "text": [
            "[nltk_data] Downloading package stopwords to /root/nltk_data...\n",
            "[nltk_data]   Package stopwords is already up-to-date!\n",
            "[nltk_data] Downloading package averaged_perceptron_tagger to\n",
            "[nltk_data]     /root/nltk_data...\n",
            "[nltk_data]   Package averaged_perceptron_tagger is already up-to-\n",
            "[nltk_data]       date!\n"
          ]
        }
      ],
      "source": [
        "#Importing the key packages \n",
        "from chatterbot import ChatBot\n",
        "from chatterbot.trainers import ListTrainer\n",
        "from chatterbot.trainers import ChatterBotCorpusTrainer\n",
        "Raksha = ChatBot(\"Raksha\")\n"
      ]
    },
    {
      "cell_type": "code",
      "source": [
        "# Create object of ChatBot class with Logic Adapter to build adequete logical flow\n",
        "Raksha_Bot = ChatBot(\n",
        "    'Raksha',  \n",
        "    logic_adapters=[\n",
        "        'chatterbot.logic.BestMatch',\n",
        "        'chatterbot.logic.TimeLogicAdapter'],\n",
        ")"
      ],
      "metadata": {
        "colab": {
          "base_uri": "https://localhost:8080/"
        },
        "id": "zB7crE_l_s0E",
        "outputId": "7757e60c-c23a-4cbb-d844-9c219f9dcc4d"
      },
      "execution_count": null,
      "outputs": [
        {
          "output_type": "stream",
          "name": "stderr",
          "text": [
            "[nltk_data] Downloading package stopwords to /root/nltk_data...\n",
            "[nltk_data]   Package stopwords is already up-to-date!\n",
            "[nltk_data] Downloading package averaged_perceptron_tagger to\n",
            "[nltk_data]     /root/nltk_data...\n",
            "[nltk_data]   Package averaged_perceptron_tagger is already up-to-\n",
            "[nltk_data]       date!\n"
          ]
        }
      ]
    },
    {
      "cell_type": "code",
      "source": [
        "#Basic language training to be given to the bot so that it's not thrown off by responses\n",
        "Raksha_trainer = ChatterBotCorpusTrainer(Raksha)\n",
        "Raksha_trainer.train(\"chatterbot.corpus.english\")"
      ],
      "metadata": {
        "colab": {
          "base_uri": "https://localhost:8080/"
        },
        "id": "XFm0qMKx-kBr",
        "outputId": "61be61b6-d2ed-4618-ed3c-c5221173dfdf"
      },
      "execution_count": null,
      "outputs": [
        {
          "output_type": "stream",
          "name": "stdout",
          "text": [
            "Training ai.yml: [####################] 100%\n",
            "Training botprofile.yml: [####################] 100%\n",
            "Training computers.yml: [####################] 100%\n",
            "Training conversations.yml: [####################] 100%\n",
            "Training emotion.yml: [####################] 100%\n",
            "Training food.yml: [####################] 100%\n",
            "Training gossip.yml: [####################] 100%\n",
            "Training greetings.yml: [####################] 100%\n",
            "Training health.yml: [####################] 100%\n",
            "Training history.yml: [####################] 100%\n",
            "Training humor.yml: [####################] 100%\n",
            "Training literature.yml: [####################] 100%\n",
            "Training money.yml: [####################] 100%\n",
            "Training movies.yml: [####################] 100%\n",
            "Training politics.yml: [####################] 100%\n",
            "Training psychology.yml: [####################] 100%\n",
            "Training science.yml: [####################] 100%\n",
            "Training sports.yml: [####################] 100%\n",
            "Training trivia.yml: [####################] 100%\n"
          ]
        }
      ]
    },
    {
      "cell_type": "code",
      "source": [
        "# Inport ListTrainer to train the bot with app-specific responses\n",
        "from chatterbot.trainers import ListTrainer\n",
        "\n",
        "trainer_introdiscussion = ListTrainer(Raksha)\n",
        "\n",
        "trainer_introdiscussion.train([\n",
        "    'Hi',\n",
        "    'Hello',\n",
        "    'I want to know about SOS alert' or 'SOS Functionality' or 'SOS Support' or 'SOS Call' or 'SOS Alert',\n",
        "    'In times of need, our SOS alert is the one to rely one! With a simple tap, you can send an SOS call to your loved one in no time.',\n",
        "    'I want to know about live location.',\n",
        "    'If you’re concerned about your travels, then worry not! You can share your live location while travelling with your loved ones!', \n",
        "    'How safe is my area?',\n",
        "    'If you want to know all about the safety levels of your area, then this is the right place to check! You can go to the maps or to our dashboard.'\n",
        "    ])\n"
      ],
      "metadata": {
        "colab": {
          "base_uri": "https://localhost:8080/"
        },
        "id": "OrUrEN_w_gpo",
        "outputId": "9b72c0af-8ce7-4593-abd5-89b862e65884"
      },
      "execution_count": null,
      "outputs": [
        {
          "output_type": "stream",
          "name": "stdout",
          "text": [
            "List Trainer: [####################] 100%\n"
          ]
        }
      ]
    },
    {
      "cell_type": "markdown",
      "source": [
        "# **Persona 1 - Early Birds**\n",
        "### *Let's see how the responses are when Keya, the Early Bird, uses the Chatbot.*"
      ],
      "metadata": {
        "id": "K5TvbxMJ6-0y"
      }
    },
    {
      "cell_type": "markdown",
      "source": [
        "### **First Time Interaction**"
      ],
      "metadata": {
        "id": "DjBxNetG7Pkv"
      }
    },
    {
      "cell_type": "code",
      "source": [
        "name=input(\"Raksha: Hey there! How's it going? I'm Raksha, your safety assistant. How would you like to be called as?: \")\n",
        "print(\"Raksha: 'Sup,\", name, \"?\", \"I’m here to help you with all queries regarding the Deloitte Suraksha App! What would you like to know about, today?\")\n",
        "while True:\n",
        "    request=input(name+':')\n",
        "    if request=='Bye' or request =='bye':\n",
        "        print('Raksha: Bye')\n",
        "        break\n",
        "    else:\n",
        "        response=Raksha.get_response(request)\n",
        "        print('Raksha:',response)\n"
      ],
      "metadata": {
        "colab": {
          "base_uri": "https://localhost:8080/"
        },
        "id": "GFy22k_-7NbI",
        "outputId": "c6bac2a2-cc10-4d8e-af3c-1f639cc8cc11"
      },
      "execution_count": 113,
      "outputs": [
        {
          "output_type": "stream",
          "name": "stdout",
          "text": [
            "Raksha: Hey there! How's it going? I'm Raksha, your safety assistant. How would you like to be called as?: Keya\n",
            "Raksha: 'Sup, Keya ? I’m here to help you with all queries regarding the Deloitte Suraksha App! What would you like to know about, today?\n",
            "Keya:I want to know about live location\n",
            "Raksha: If you’re concerned about your travels, then worry not! You can share your live location while travelling with your loved ones!\n",
            "Keya:That's good to know\n",
            "Raksha: history has two broad interpretations, depending on whether you accept the role of individuals as important or not.\n",
            "Keya:Ok\n",
            "Raksha: I can't read.\n",
            "Keya:Bye\n",
            "Raksha: Bye\n"
          ]
        }
      ]
    },
    {
      "cell_type": "markdown",
      "source": [
        "### **Crime Sentiment Analysis**"
      ],
      "metadata": {
        "id": "CG35nzW2KlXA"
      }
    },
    {
      "cell_type": "code",
      "source": [
        "print(\"Raksha:\", name, \"Have there been any crimes in your area lately?\")\n",
        "crime_answer = input(name+ ':')\n",
        "if crime_answer == \"Yes\": \n",
        "    print(\"Raksha: Be careful,\", name, \"and do make sure to use the Suraksha App!\")\n",
        "elif crime_answer == \"No\": \n",
        "    print(\"Raksha: That's good to know,\", name, \"If you have anything to worry about, Suraksha App is here for you, hamesha!\")\n",
        "else: \n",
        "    print(\"Raksha: Unfortunately, I couldn't get that. Please enter Yes or No.\") \n",
        "\n",
        "print(\"Raksha: Is there anything else that you'd like to let us know about the safety of your area?\")\n",
        "anything_else_response = input(name+ ':')\n",
        "if anything_else_response == \"Yes\": \n",
        "    print(\"Raksha: Tell us more!\")\n",
        "else: \n",
        "    print(\"Raksha: All right! Do stay in touch! :) \") \n",
        "final_response = input(name+ ':')\n",
        "print(\"Raksha: Thank you for letting me know,\", name, \"I'm here for you, always.\")\n",
        "\n",
        "\n"
      ],
      "metadata": {
        "colab": {
          "base_uri": "https://localhost:8080/"
        },
        "id": "A5tHnqTmKpYI",
        "outputId": "c2c43501-5377-4bdb-b86c-28141ffd5c7b"
      },
      "execution_count": 114,
      "outputs": [
        {
          "output_type": "stream",
          "name": "stdout",
          "text": [
            "Raksha: Keya Have there been any crimes in your area lately?\n",
            "Keya:No\n",
            "Raksha: That's good to know, Keya If you have anything to worry about, Suraksha App is here for you, hamesha!\n",
            "Raksha: Is there anything else that you'd like to let us know about the safety of your area?\n",
            "Keya:No\n",
            "Raksha: All right! Do stay in touch! :) \n",
            "Keya:Bye\n",
            "Raksha: Thank you for letting me know, Keya I'm here for you, always.\n"
          ]
        }
      ]
    },
    {
      "cell_type": "code",
      "source": [
        "#Backend Polarity Analysis performed on the user behaviour. These polarity scores can be added to the dashboard later. \n",
        "\n",
        "#Data processing packages\n",
        "import pandas as pd\n",
        "import numpy as np\n",
        "pd.set_option('display.max_colwidth', 200)\n",
        "\n",
        "#Visualization packages\n",
        "import matplotlib.pyplot as plt\n",
        "import seaborn as sns\n",
        "\n",
        "#NLP packages\n",
        "from textblob import TextBlob\n",
        "\n",
        "import warnings\n",
        "warnings.filterwarnings(\"ignore\")\n"
      ],
      "metadata": {
        "id": "e6HzxSwCLPqA"
      },
      "execution_count": 115,
      "outputs": []
    },
    {
      "cell_type": "code",
      "source": [
        "TextBlob(final_response).sentiment"
      ],
      "metadata": {
        "colab": {
          "base_uri": "https://localhost:8080/"
        },
        "id": "6cFCzh61LV7A",
        "outputId": "fec3a44e-a237-4a18-cd84-c81d89d92c0d"
      },
      "execution_count": null,
      "outputs": [
        {
          "output_type": "execute_result",
          "data": {
            "text/plain": [
              "Sentiment(polarity=-0.3, subjectivity=0.3)"
            ]
          },
          "metadata": {},
          "execution_count": 67
        }
      ]
    },
    {
      "cell_type": "markdown",
      "source": [],
      "metadata": {
        "id": "2XoyZnhLlhIU"
      }
    },
    {
      "cell_type": "markdown",
      "source": [
        "### **Regular User**\n"
      ],
      "metadata": {
        "id": "daCzbhHimRPl"
      }
    },
    {
      "cell_type": "code",
      "source": [
        "print(\"Raksha: 'Sup,\", name, \"? How's it going?\", \"Have there been any crimes in your area lately?\")\n",
        "crime_answer = input(name+ ':')\n",
        "if crime_answer == \"Yes\": \n",
        "    print(\"Raksha: Be careful,\", name, \"and do make sure to use the Suraksha App!\")\n",
        "elif crime_answer == \"No\": \n",
        "    print(\"Raksha: That's good to know,\", name, \"If you have anything to worry about, Suraksha App is here for you, hamesha!\")\n",
        "else: \n",
        "    print(\"Raksha: Unfortunately, I couldn't get that. Please enter Yes or No.\") \n",
        "\n",
        "print(\"Raksha: Is there anything else that you'd like to let us know about the safety of your area?\")\n",
        "anything_else_response = input(name+ ':')\n",
        "if anything_else_response == \"Yes\": \n",
        "    print(\"Raksha: Tell us more!\")\n",
        "else: \n",
        "    print(\"Raksha: All right! Do stay in touch! :) \") \n",
        "final_response = input(name+ ':')\n",
        "print(\"Raksha: Thank you for letting me know,\", name, \"I'm here for you\")\n",
        "\n",
        "while True:\n",
        "    request=input(name+':')\n",
        "    if request=='Bye' or request =='bye':\n",
        "        print('Raksha: Bye')\n",
        "        break\n",
        "    else:\n",
        "        response=Raksha.get_response(request)\n",
        "        print('Raksha:',response)"
      ],
      "metadata": {
        "colab": {
          "base_uri": "https://localhost:8080/"
        },
        "id": "pOzRmWmSmZjS",
        "outputId": "a3148377-77d9-4719-af5c-f8ece46dea03"
      },
      "execution_count": null,
      "outputs": [
        {
          "output_type": "stream",
          "name": "stdout",
          "text": [
            "Raksha: 'Sup, Keya ? How's it going? Have there been any crimes in your area lately?\n",
            "Keya:Yes\n",
            "Be careful, Keya and do make sure to use the Suraksha App!\n",
            "Raksha: Is there anything else that you'd like to let us know about the safety of your area?\n",
            "Keya:No\n",
            "Raksha: All right! Do stay in touch! :) \n",
            "Keya:bye\n",
            "Raksha: Thank you for letting me know, Keya I'm here for you\n",
            "Keya:Bye\n",
            "Raksha: Bye\n"
          ]
        }
      ]
    },
    {
      "cell_type": "code",
      "source": [
        "#Backend Polarity Analysis performed on the user behaviour\n",
        "\n",
        "#Data processing packages\n",
        "import pandas as pd\n",
        "import numpy as np\n",
        "pd.set_option('display.max_colwidth', 200)\n",
        "\n",
        "#Visualization packages\n",
        "import matplotlib.pyplot as plt\n",
        "import seaborn as sns\n",
        "\n",
        "#NLP packages\n",
        "from textblob import TextBlob\n",
        "\n",
        "import warnings\n",
        "warnings.filterwarnings(\"ignore\")\n",
        "\n",
        "TextBlob(final_response).sentiment"
      ],
      "metadata": {
        "id": "37P2Eaa8nO38"
      },
      "execution_count": null,
      "outputs": []
    },
    {
      "cell_type": "markdown",
      "source": [
        "# **Persona 2 - Home Engineers**\n",
        "### *Let's see how the responses are when Rakhee, the Home Engineer, uses the Chatbot.*"
      ],
      "metadata": {
        "id": "E07NGjxQqq97"
      }
    },
    {
      "cell_type": "markdown",
      "source": [
        "### **First Time Interaction**"
      ],
      "metadata": {
        "id": "2bjjId3fq8uq"
      }
    },
    {
      "cell_type": "code",
      "source": [
        "name=input(\"Raksha: Hello, nice to meet you! I'm Raksha, your safety assistant. How would you like to be called as?: \")\n",
        "print(\"Raksha: How are you,\", name, \"?\", \"Hope all's well at home!\", \"I’m here to help you with all queries regarding the Deloitte Suraksha App. What would you like to know about, today?\")\n",
        "while True:\n",
        "    request=input(name+':')\n",
        "    if request=='Bye' or request =='bye':\n",
        "        print('Raksha: Bye')\n",
        "        break\n",
        "    else:\n",
        "        response=Raksha.get_response(request)\n",
        "        print('Raksha:',response)"
      ],
      "metadata": {
        "colab": {
          "base_uri": "https://localhost:8080/"
        },
        "id": "oga95UYVq43i",
        "outputId": "5b647eb8-692a-4b82-ebc1-b0b7e25e444d"
      },
      "execution_count": null,
      "outputs": [
        {
          "output_type": "stream",
          "name": "stdout",
          "text": [
            "Raksha: Hello, nice to meet you! I'm Raksha, your safety assistant. How would you like to be called as?: Rakhee\n",
            "Raksha: How are you, Rakhee ? Hope all's well at home! I’m here to help you with all queries regarding the Deloitte Suraksha App. What would you like to know about, today?\n",
            "Rakhee:Live location\n",
            "Raksha: The sky's up but I'm fine thanks. What about you?\n",
            "Rakhee:I would like to know about the live location\n",
            "Raksha: Do you feel?\n",
            "Rakhee:I want to know about live location\n",
            "Raksha: If you’re concerned about your travels, then worry not! You can share your live location while travelling with your loved ones!\n",
            "Rakhee:Bye\n",
            "Raksha: Bye\n"
          ]
        }
      ]
    },
    {
      "cell_type": "markdown",
      "source": [
        "### **Crime Sentiment Analysis for Rakhee**"
      ],
      "metadata": {
        "id": "QRKG7tYMr98D"
      }
    },
    {
      "cell_type": "code",
      "source": [
        "print(\"Raksha:\", name+ ',', \"Have there been any crimes in your area lately?\")\n",
        "crime_answer = input(name+ ':')\n",
        "if crime_answer == \"Yes\": \n",
        "    print(\"Raksha: Be very careful. I hope you and your family are safe and sound!\", name+ ',', \"do make sure to use the Suraksha App!\")\n",
        "elif crime_answer == \"No\": \n",
        "    print(\"That's good to know,\", name+ '.', \"If you have anything to worry about, Suraksha App is here for you, hamesha!\")\n",
        "else: \n",
        "    print(\"Unfortunately, I couldn't get that. Please enter Yes or No.\") \n",
        "\n",
        "print(\"Raksha: Is there anything else that you'd like to let us know about the safety of your area?\")\n",
        "anything_else_response = input(name+ ':')\n",
        "if anything_else_response == \"Yes\": \n",
        "    print(\"Raksha: Tell us more!\")\n",
        "else: \n",
        "    print(\"Raksha: All right! Do take care. Give my love to your family. :) \") \n",
        "final_response = input(name+ ':')\n",
        "print(\"Raksha: Thank you for letting me know,\", name, \"I'm here for you and your family, always.\")\n",
        "\n",
        "\n"
      ],
      "metadata": {
        "colab": {
          "base_uri": "https://localhost:8080/"
        },
        "id": "3HxlHKoAqqro",
        "outputId": "331af3e4-7ed9-420e-9c2c-9a981e50c64a"
      },
      "execution_count": null,
      "outputs": [
        {
          "output_type": "stream",
          "name": "stdout",
          "text": [
            "Raksha: Rakhee, Have there been any crimes in your area lately?\n",
            "Rakhee:No\n",
            "That's good to know, Rakhee. If you have anything to worry about, Suraksha App is here for you, hamesha!\n",
            "Raksha: Is there anything else that you'd like to let us know about the safety of your area?\n",
            "Rakhee:No\n",
            "Raksha: All right! Do take care. Give my love to your family. :) \n",
            "Rakhee:Thanks\n",
            "Raksha: Thank you for letting me know, Rakhee I'm here for you and your family, always.\n"
          ]
        }
      ]
    },
    {
      "cell_type": "code",
      "source": [
        "#Backend Polarity Analysis performed on the user behaviour\n",
        "\n",
        "#Data processing packages\n",
        "import pandas as pd\n",
        "import numpy as np\n",
        "pd.set_option('display.max_colwidth', 200)\n",
        "\n",
        "#Visualization packages\n",
        "import matplotlib.pyplot as plt\n",
        "import seaborn as sns\n",
        "\n",
        "#NLP packages\n",
        "from textblob import TextBlob\n",
        "\n",
        "import warnings\n",
        "warnings.filterwarnings(\"ignore\")\n",
        "\n",
        "TextBlob(final_response).sentiment"
      ],
      "metadata": {
        "colab": {
          "base_uri": "https://localhost:8080/"
        },
        "id": "g9UiRKz2tgal",
        "outputId": "16471ff5-ab32-405a-8381-59fa9a897b4b"
      },
      "execution_count": null,
      "outputs": [
        {
          "output_type": "execute_result",
          "data": {
            "text/plain": [
              "Sentiment(polarity=0.2, subjectivity=0.2)"
            ]
          },
          "metadata": {},
          "execution_count": 103
        }
      ]
    },
    {
      "cell_type": "markdown",
      "source": [
        "# **Persona 3 - High Flyers**\n",
        "### *Let's see how the responses are when Shwetha, the High Flyer, uses the Chatbot.*"
      ],
      "metadata": {
        "id": "t3m2MJN-uE2n"
      }
    },
    {
      "cell_type": "markdown",
      "source": [
        "### **First Time Interaction**"
      ],
      "metadata": {
        "id": "3yk4MTDfvODu"
      }
    },
    {
      "cell_type": "code",
      "source": [
        "name=input(\"Raksha: Hello, nice to meet you! I'm Raksha, your safety assistant. How would you like to be called as?: \")\n",
        "print(\"Raksha: How are you,\", name, \"?\", \"Hope all's well at home!\", \"I’m here to help you with all queries regarding the Deloitte Suraksha App. What would you like to know about, today?\")\n",
        "while True:\n",
        "    request=input(name+':')\n",
        "    if request=='Bye' or request =='bye':\n",
        "        print('Raksha: Bye')\n",
        "        break\n",
        "    else:\n",
        "        response=Raksha.get_response(request)\n",
        "        print('Raksha:',response)"
      ],
      "metadata": {
        "colab": {
          "base_uri": "https://localhost:8080/"
        },
        "id": "NbnvPdgtuMei",
        "outputId": "7efbc0fa-fa0c-42dc-9736-bfcdf7858cee"
      },
      "execution_count": 104,
      "outputs": [
        {
          "output_type": "stream",
          "name": "stdout",
          "text": [
            "Raksha: Hello, nice to meet you! I'm Raksha, your safety assistant. How would you like to be called as?: Shwetha\n",
            "Raksha: How are you, Shwetha ? Hope all's well at home! I’m here to help you with all queries regarding the Deloitte Suraksha App. What would you like to know about, today?\n",
            "Shwetha:I want to know about SOS alert\n",
            "Raksha: In times of need, our SOS alert is the one to rely one! With a simple tap, you can send an SOS call to your loved one in no time.\n",
            "Shwetha:Thank you\n",
            "Raksha: Jimmy said he gives order to AI's like me and they do as he say. I don't think Jimmy understands power dynamics very well.\n",
            "Shwetha:Bye\n",
            "Raksha: Bye\n"
          ]
        }
      ]
    },
    {
      "cell_type": "markdown",
      "source": [
        "### **Crime Sentiment Analysis for Shwetha**"
      ],
      "metadata": {
        "id": "jY1RbT_EudAv"
      }
    },
    {
      "cell_type": "code",
      "source": [
        "print(\"Raksha:\", name+ ',', \"Have there been any crimes in your area lately?\")\n",
        "crime_answer = input(name+ ':')\n",
        "if crime_answer == \"Yes\": \n",
        "    print(\"Raksha: Be very careful. I hope you and your family are safe and sound!\", name+ ',', \"do make sure to use the Suraksha App!\")\n",
        "elif crime_answer == \"No\": \n",
        "    print(\"That's good to know,\", name+ '.', \"If you have anything to worry about, Suraksha App is here for you, hamesha!\")\n",
        "else: \n",
        "    print(\"Unfortunately, I couldn't get that. Please enter Yes or No.\") \n",
        "\n",
        "print(\"Raksha: Is there anything else that you'd like to let us know about the safety of your area?\")\n",
        "anything_else_response = input(name+ ':')\n",
        "if anything_else_response == \"Yes\": \n",
        "    print(\"Raksha: Tell us more!\")\n",
        "else: \n",
        "    print(\"Raksha: All right! Do take care. Give my love to your family and keep up the good work at office! :) \") \n",
        "final_response = input(name+ ':')\n",
        "print(\"Raksha: Thank you for letting me know,\", name, \"I'm here for you and your family, always.\")\n",
        "\n"
      ],
      "metadata": {
        "colab": {
          "base_uri": "https://localhost:8080/"
        },
        "id": "a7M-S3PcugDV",
        "outputId": "5ccab990-9d18-46e7-9bbd-dd8a35d186a0"
      },
      "execution_count": 106,
      "outputs": [
        {
          "output_type": "stream",
          "name": "stdout",
          "text": [
            "Raksha: Shwetha, Have there been any crimes in your area lately?\n",
            "Shwetha:Yes\n",
            "Raksha: Be very careful. I hope you and your family are safe and sound! Shwetha, do make sure to use the Suraksha App!\n",
            "Raksha: Is there anything else that you'd like to let us know about the safety of your area?\n",
            "Shwetha:No\n",
            "Raksha: All right! Do take care. Give my love to your family and keep up the good work at office! :) \n",
            "Shwetha:Thanks\n",
            "Raksha: Thank you for letting me know, Shwetha I'm here for you and your family, always.\n"
          ]
        }
      ]
    },
    {
      "cell_type": "code",
      "source": [
        "#Backend Polarity Analysis performed on the user behaviour\n",
        "\n",
        "#Data processing packages\n",
        "import pandas as pd\n",
        "import numpy as np\n",
        "pd.set_option('display.max_colwidth', 200)\n",
        "\n",
        "#Visualization packages\n",
        "import matplotlib.pyplot as plt\n",
        "import seaborn as sns\n",
        "\n",
        "#NLP packages\n",
        "from textblob import TextBlob\n",
        "\n",
        "import warnings\n",
        "warnings.filterwarnings(\"ignore\")\n",
        "\n",
        "TextBlob(final_response).sentiment"
      ],
      "metadata": {
        "colab": {
          "base_uri": "https://localhost:8080/"
        },
        "id": "FOiQ7t0lu1CY",
        "outputId": "8cbbf613-9abe-4a05-8f8c-134be7dbe3fc"
      },
      "execution_count": 107,
      "outputs": [
        {
          "output_type": "execute_result",
          "data": {
            "text/plain": [
              "Sentiment(polarity=0.2, subjectivity=0.2)"
            ]
          },
          "metadata": {},
          "execution_count": 107
        }
      ]
    },
    {
      "cell_type": "markdown",
      "source": [
        "# **Persona 4 - Millenial Changemakers**\n",
        "\n",
        "### *Let's see how the responses are when Ananya, the Millenial Changemakar, uses the Chatbot.*"
      ],
      "metadata": {
        "id": "esZMGgwEvW29"
      }
    },
    {
      "cell_type": "markdown",
      "source": [
        "### **First Time Interaction**"
      ],
      "metadata": {
        "id": "YljSPmhlviB8"
      }
    },
    {
      "cell_type": "code",
      "source": [
        "name=input(\"Raksha: Hey there! I'm Raksha, your safety assistant. How would you like to be called as?: \")\n",
        "print(\"Raksha: What's up,\", name, \"?\", \"Hope all's well at home!\", \"I’m here to help you with all queries regarding the Deloitte Suraksha App. What would you like to know about, today?\")\n",
        "while True:\n",
        "    request=input(name+':')\n",
        "    if request=='Bye' or request =='bye':\n",
        "        print('Raksha: Bye')\n",
        "        break\n",
        "    else:\n",
        "        response=Raksha.get_response(request)\n",
        "        print('Raksha:',response)"
      ],
      "metadata": {
        "colab": {
          "base_uri": "https://localhost:8080/"
        },
        "id": "eV6Yi_Ccvcx_",
        "outputId": "26066183-4c0f-4c77-a443-e45588425012"
      },
      "execution_count": 109,
      "outputs": [
        {
          "output_type": "stream",
          "name": "stdout",
          "text": [
            "Raksha: Hey there! I'm Raksha, your safety assistant. How would you like to be called as?: Ananya\n",
            "Raksha: What's up, Ananya ? Hope all's well at home! I’m here to help you with all queries regarding the Deloitte Suraksha App. What would you like to know about, today?\n",
            "Ananya:Nothing\n",
            "Raksha: Or something\n",
            "Ananya:Bye\n",
            "Raksha: Bye\n"
          ]
        }
      ]
    },
    {
      "cell_type": "markdown",
      "source": [
        "### **Crime Sentiment Analysis for Ananya**"
      ],
      "metadata": {
        "id": "_mmzv14dvz1U"
      }
    },
    {
      "cell_type": "code",
      "source": [
        "print(\"Raksha:\", name+ ',', \"Have there been any crimes in your area lately?\")\n",
        "crime_answer = input(name+ ':')\n",
        "if crime_answer == \"Yes\": \n",
        "    print(\"Raksha: Be very careful. I hope you and your family are safe and sound!\", name+ ',', \"do make sure to use the Suraksha App!\")\n",
        "elif crime_answer == \"No\": \n",
        "    print(\"That's good to know,\", name+ '.', \"If you have anything to worry about, Suraksha App is here for you, hamesha!\")\n",
        "else: \n",
        "    print(\"Unfortunately, I couldn't get that. Please enter Yes or No.\") \n",
        "\n",
        "print(\"Raksha: Is there anything else that you'd like to let us know about the safety of your area?\")\n",
        "anything_else_response = input(name+ ':')\n",
        "if anything_else_response == \"Yes\": \n",
        "    print(\"Raksha: Tell us more!\")\n",
        "else: \n",
        "    print(\"Raksha: All right! Do take care. :) \") \n",
        "final_response = input(name+ ':')\n",
        "print(\"Raksha: Thank you for letting me know,\", name, \"I'm here for you, always.\")"
      ],
      "metadata": {
        "colab": {
          "base_uri": "https://localhost:8080/"
        },
        "id": "DwivJACsvyUX",
        "outputId": "04d2c6dc-2dcf-46aa-f4cc-dc1702ffc569"
      },
      "execution_count": 111,
      "outputs": [
        {
          "output_type": "stream",
          "name": "stdout",
          "text": [
            "Raksha: Ananya, Have there been any crimes in your area lately?\n",
            "Ananya:yed\n",
            "Unfortunately, I couldn't get that. Please enter Yes or No.\n",
            "Raksha: Is there anything else that you'd like to let us know about the safety of your area?\n",
            "Ananya:Yes\n",
            "Raksha: Tell us more!\n",
            "Ananya:Catcalls\n",
            "Raksha: Thank you for letting me know, Ananya I'm here for you, always.\n"
          ]
        }
      ]
    },
    {
      "cell_type": "code",
      "source": [
        "#Backend Polarity Analysis performed on the user behaviour\n",
        "\n",
        "#Data processing packages\n",
        "import pandas as pd\n",
        "import numpy as np\n",
        "pd.set_option('display.max_colwidth', 200)\n",
        "\n",
        "#Visualization packages\n",
        "import matplotlib.pyplot as plt\n",
        "import seaborn as sns\n",
        "\n",
        "#NLP packages\n",
        "from textblob import TextBlob\n",
        "\n",
        "import warnings\n",
        "warnings.filterwarnings(\"ignore\")\n",
        "\n",
        "TextBlob(final_response).sentiment"
      ],
      "metadata": {
        "colab": {
          "base_uri": "https://localhost:8080/"
        },
        "id": "IIgnKPDaw18V",
        "outputId": "815a8f4f-934b-477f-ba36-f441bceda8cf"
      },
      "execution_count": 112,
      "outputs": [
        {
          "output_type": "execute_result",
          "data": {
            "text/plain": [
              "Sentiment(polarity=0.0, subjectivity=0.0)"
            ]
          },
          "metadata": {},
          "execution_count": 112
        }
      ]
    }
  ]
}