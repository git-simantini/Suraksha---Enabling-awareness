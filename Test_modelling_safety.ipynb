{
 "cells": [
  {
   "cell_type": "markdown",
   "id": "206e5af7",
   "metadata": {},
   "source": [
    "# Project SURAKSHA : Enabling awareness"
   ]
  },
  {
   "cell_type": "markdown",
   "id": "0d309008",
   "metadata": {},
   "source": [
    "<div class = \"alert alert-block alert-success\">\n",
    "\n",
    " - <b>Version</b> : 1.0\n",
    "\n",
    " - <b>Authors</b> : \n",
    "    -  Anjali Muralidharan<br>\n",
    "    -  Chitra Nair<br>\n",
    "    -  Kavish Jhaveri<br>\n",
    "    -  Simantini Ghosh<br>\n",
    "    -  Sonal Rai\n",
    "            \n",
    "-  Built in association with Indian School of Business,Hyderbad as part of Capstone Project\n",
    "</div>"
   ]
  },
  {
   "cell_type": "markdown",
   "id": "7d482751",
   "metadata": {},
   "source": [
    "### Problem Description:\n",
    "\n",
    "To create a prototype for a mobile app that ensures women & child safety though the following modules\n",
    "1.\tShare Live Location & Details - With a chosen few, integrate with cab giants to link and display driver details to the chosen person receiving live updates\n",
    "2.\tMap the City Down Based On Safety Index - Provide real time alerts when in a zone/area with a poor safety rating, citations on prior crimes committed\n",
    "3.\tSOS Functionality: App Profile to Integrate with Women & Police Helplines Based on subject's zip code and make calls in need\n",
    "4.\tOffline Mode: The app must share data while offline (TBD)\n",
    "5.\tPrescriptive Prompts !!!: Must deliver real time alerts, if the subject is in an area that is inhabited (by criminal records) by convicted sex offender, child trafficker or other associated crimes with convicts personal identification indicators (Photo etc.) to enable educated decision making."
   ]
  },
  {
   "cell_type": "markdown",
   "id": "38816f7a",
   "metadata": {},
   "source": [
    "<div class = \"alert alert-block alert-info\">\n",
    "<b>This code snippet is for testing the model built for predicting whether a location is safe or not.</b>\n",
    "</div>"
   ]
  },
  {
   "cell_type": "markdown",
   "id": "1833b78a",
   "metadata": {},
   "source": [
    "#### Loading relevant libraries"
   ]
  },
  {
   "cell_type": "code",
   "execution_count": 29,
   "id": "1c934d1d",
   "metadata": {},
   "outputs": [
    {
     "name": "stdout",
     "output_type": "stream",
     "text": [
      "1.0.2\n"
     ]
    }
   ],
   "source": [
    "import pandas as pd\n",
    "from joblib import load\n",
    "import warnings \n",
    "warnings.filterwarnings(\"ignore\")\n",
    "#from sklearn.externals import joblib for older apis\n",
    "#from sklearn.externals import joblib\n",
    "import sklearn\n",
    "print(sklearn.__version__)"
   ]
  },
  {
   "cell_type": "code",
   "execution_count": 66,
   "id": "cb1eeb60",
   "metadata": {},
   "outputs": [],
   "source": [
    "class PredictionModel():\n",
    "    \n",
    "    def __init__(self, model, features, acc):\n",
    "        self.model = model\n",
    "        self.features = features\n",
    "        self.acc = acc"
   ]
  },
  {
   "cell_type": "code",
   "execution_count": 67,
   "id": "5e03d5ac",
   "metadata": {},
   "outputs": [],
   "source": [
    "model_v1 = load(\"suraksha_app_model_safety.pkl\")"
   ]
  },
  {
   "cell_type": "code",
   "execution_count": 68,
   "id": "c2b1d6db",
   "metadata": {},
   "outputs": [
    {
     "data": {
      "text/plain": [
       "__main__.PredictionModel"
      ]
     },
     "execution_count": 68,
     "metadata": {},
     "output_type": "execute_result"
    }
   ],
   "source": [
    "type(model_v1)"
   ]
  },
  {
   "cell_type": "code",
   "execution_count": 69,
   "id": "efa2765d",
   "metadata": {},
   "outputs": [
    {
     "data": {
      "text/plain": [
       "Pipeline(steps=[('preprocessor',\n",
       "                 ColumnTransformer(transformers=[('cat_ohe',\n",
       "                                                  Pipeline(steps=[('ohencoder',\n",
       "                                                                   OneHotEncoder(handle_unknown='ignore'))]),\n",
       "                                                  ['Area', 'time_hour']),\n",
       "                                                 ('num',\n",
       "                                                  Pipeline(steps=[('scaler',\n",
       "                                                                   StandardScaler())]),\n",
       "                                                  [])])),\n",
       "                ('gradientBoost', GradientBoostingClassifier())])"
      ]
     },
     "execution_count": 69,
     "metadata": {},
     "output_type": "execute_result"
    }
   ],
   "source": [
    "model_v1.model"
   ]
  },
  {
   "cell_type": "code",
   "execution_count": 70,
   "id": "f12e9598",
   "metadata": {},
   "outputs": [
    {
     "data": {
      "text/plain": [
       "0.960880195599022"
      ]
     },
     "execution_count": 70,
     "metadata": {},
     "output_type": "execute_result"
    }
   ],
   "source": [
    "model_v1.acc"
   ]
  },
  {
   "cell_type": "code",
   "execution_count": 71,
   "id": "e4b18ef0",
   "metadata": {},
   "outputs": [
    {
     "data": {
      "text/plain": [
       "['Area', 'time_hour']"
      ]
     },
     "execution_count": 71,
     "metadata": {},
     "output_type": "execute_result"
    }
   ],
   "source": [
    "model_v1.features"
   ]
  },
  {
   "cell_type": "code",
   "execution_count": 76,
   "id": "ed69646c",
   "metadata": {},
   "outputs": [],
   "source": [
    "safe_dict = {\n",
    "            'Area': 'Govindpuri',\n",
    "            'time_hour': '10'\n",
    "            }"
   ]
  },
  {
   "cell_type": "code",
   "execution_count": 77,
   "id": "6d5ab842",
   "metadata": {},
   "outputs": [],
   "source": [
    "var = {}\n",
    "for key in model_v1.features:\n",
    "    var[key] = 0"
   ]
  },
  {
   "cell_type": "code",
   "execution_count": 78,
   "id": "7e6898f2",
   "metadata": {},
   "outputs": [],
   "source": [
    "for key in safe_dict:\n",
    "    var[key] = safe_dict[key]"
   ]
  },
  {
   "cell_type": "code",
   "execution_count": 79,
   "id": "5b5832e5",
   "metadata": {},
   "outputs": [
    {
     "data": {
      "text/plain": [
       "{'Area': 'Govindpuri', 'time_hour': '10'}"
      ]
     },
     "execution_count": 79,
     "metadata": {},
     "output_type": "execute_result"
    }
   ],
   "source": [
    "var"
   ]
  },
  {
   "cell_type": "code",
   "execution_count": 81,
   "id": "f258d934",
   "metadata": {},
   "outputs": [],
   "source": [
    "df = pd.DataFrame(var, index = [0])\n"
   ]
  },
  {
   "cell_type": "code",
   "execution_count": 82,
   "id": "fcab1739",
   "metadata": {},
   "outputs": [
    {
     "data": {
      "text/html": [
       "<div>\n",
       "<style scoped>\n",
       "    .dataframe tbody tr th:only-of-type {\n",
       "        vertical-align: middle;\n",
       "    }\n",
       "\n",
       "    .dataframe tbody tr th {\n",
       "        vertical-align: top;\n",
       "    }\n",
       "\n",
       "    .dataframe thead th {\n",
       "        text-align: right;\n",
       "    }\n",
       "</style>\n",
       "<table border=\"1\" class=\"dataframe\">\n",
       "  <thead>\n",
       "    <tr style=\"text-align: right;\">\n",
       "      <th></th>\n",
       "      <th>Area</th>\n",
       "      <th>time_hour</th>\n",
       "    </tr>\n",
       "  </thead>\n",
       "  <tbody>\n",
       "    <tr>\n",
       "      <th>0</th>\n",
       "      <td>Govindpuri</td>\n",
       "      <td>10</td>\n",
       "    </tr>\n",
       "  </tbody>\n",
       "</table>\n",
       "</div>"
      ],
      "text/plain": [
       "         Area time_hour\n",
       "0  Govindpuri        10"
      ]
     },
     "execution_count": 82,
     "metadata": {},
     "output_type": "execute_result"
    }
   ],
   "source": [
    "df"
   ]
  },
  {
   "cell_type": "code",
   "execution_count": 83,
   "id": "ab537117",
   "metadata": {},
   "outputs": [
    {
     "data": {
      "text/plain": [
       "(1, 2)"
      ]
     },
     "execution_count": 83,
     "metadata": {},
     "output_type": "execute_result"
    }
   ],
   "source": [
    "df.shape"
   ]
  },
  {
   "cell_type": "code",
   "execution_count": 84,
   "id": "a9554957",
   "metadata": {},
   "outputs": [
    {
     "data": {
      "text/plain": [
       "array([1], dtype=int64)"
      ]
     },
     "execution_count": 84,
     "metadata": {},
     "output_type": "execute_result"
    }
   ],
   "source": [
    "model_v1.model.predict(df)"
   ]
  },
  {
   "cell_type": "markdown",
   "id": "19f40fea",
   "metadata": {},
   "source": [
    "# ****"
   ]
  }
 ],
 "metadata": {
  "kernelspec": {
   "display_name": "Python 3 (ipykernel)",
   "language": "python",
   "name": "python3"
  },
  "language_info": {
   "codemirror_mode": {
    "name": "ipython",
    "version": 3
   },
   "file_extension": ".py",
   "mimetype": "text/x-python",
   "name": "python",
   "nbconvert_exporter": "python",
   "pygments_lexer": "ipython3",
   "version": "3.9.7"
  }
 },
 "nbformat": 4,
 "nbformat_minor": 5
}
